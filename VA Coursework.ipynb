{
 "cells": [
  {
   "cell_type": "markdown",
   "metadata": {},
   "source": [
    "# INM433 Visual Analytics Coursework\n",
    "\n",
    "\n",
    "\n",
    "\n",
    "Student Name: **Ayliah Fani**\n",
    "\n",
    "Project Title: **A Visual Exploration of Canadian Immigration**\n",
    "\n",
    "***\n",
    "\n",
    "\n",
    "\n"
   ]
  },
  {
   "cell_type": "markdown",
   "metadata": {},
   "source": [
    "**import libraries:**"
   ]
  },
  {
   "cell_type": "code",
   "execution_count": 206,
   "metadata": {},
   "outputs": [
    {
     "name": "stdout",
     "output_type": "stream",
     "text": [
      "Pandas version: 1.0.5\n"
     ]
    },
    {
     "data": {
      "image/png": "[encoded data removed]",
      "text/plain": [
       "<Figure size 432x72 with 1 Axes>"
      ]
     },
     "metadata": {},
     "output_type": "display_data"
    }
   ],
   "source": [
    "import pandas as pd\n",
    "import geopandas as gpd\n",
    "import altair as alt\n",
    "import folium\n",
    "import matplotlib.pyplot as plt\n",
    "import matplotlib as mpl\n",
    "%matplotlib inline\n",
    "import seaborn as sns\n",
    "import numpy as np\n",
    "import openpyxl\n",
    "\n",
    "# setting seaborn figure aesthetics\n",
    "sns.set(context='poster', style='whitegrid',font_scale=0.75, color_codes=True, rc={'figure.figsize':(11.7,8.27)})\n",
    "\n",
    "# set colours \n",
    "palette = sns.color_palette('hls')\n",
    "sns.set_palette(palette)\n",
    "sns.palplot(palette)\n",
    "\n",
    "# setting pandas to show all rows and columns when acessing dataframe\n",
    "pd.set_option('display.max_columns', None)\n",
    "pd.set_option('display.max_rows', None)\n",
    "\n",
    "print ('Pandas version:',pd.__version__)"
   ]
  },
  {
   "cell_type": "markdown",
   "metadata": {},
   "source": [
    "***\n",
    "## 1. Data Aquisition & Cleaning\n",
    "***\n",
    "### 1.1 Immigration by Country"
   ]
  },
  {
   "cell_type": "markdown",
   "metadata": {},
   "source": [
    "#### Import"
   ]
  },
  {
   "cell_type": "code",
   "execution_count": 207,
   "metadata": {},
   "outputs": [],
   "source": [
    "# import 'iimmigration by country' dataset\n",
    "immigration = pd.read_excel('Canada.xlsx', engine='openpyxl')\n",
    "# immigration"
   ]
  },
  {
   "cell_type": "markdown",
   "metadata": {},
   "source": [
    "#### Immigration by Country"
   ]
  },
  {
   "cell_type": "code",
   "execution_count": 208,
   "metadata": {},
   "outputs": [
    {
     "name": "stdout",
     "output_type": "stream",
     "text": [
      "Dataframe has 1015 rows and 38 columns\n"
     ]
    }
   ],
   "source": [
    "# get rid of top rows\n",
    "immigration = immigration.drop([0,1,2,3,4,5,6,7,8,9,10,11,12,13,14,15,16,17,18])\n",
    "\n",
    "# rename columns to first row\n",
    "immigration.columns = immigration.iloc[0]\n",
    "\n",
    "# drop first row\n",
    "immigration.drop(index=19, inplace = True, axis=0)\n",
    "\n",
    "# drop unnecessary columns and rename columns\n",
    "immigration.drop(columns=['Type', 'Coverage','AREA','REG','DEV'], inplace=True)\n",
    "\n",
    "# get rid of NaN columns\n",
    "immigration.dropna(axis=1,thresh=10, inplace=True)\n",
    "\n",
    "immigration.columns = ['Country','Continent','Region','Development',\n",
    "                       '1980','1981','1982','1983','1984','1985','1986','1987','1988','1989',\n",
    "                       '1990','1991','1992','1993','1994','1995','1996','1997','1998','1999',\n",
    "                       '2000','2001','2002','2003','2004','2005','2006','2007','2008','2009',\n",
    "                       '2010','2011','2012','2013']\n",
    "\n",
    "print('Dataframe has {} rows and {} columns'.format(immigration.shape[0], immigration.shape[1]))"
   ]
  },
  {
   "cell_type": "code",
   "execution_count": 209,
   "metadata": {},
   "outputs": [],
   "source": [
    "#re-index dataframe\n",
    "immigration.reset_index(drop=True, inplace=True)"
   ]
  },
  {
   "cell_type": "code",
   "execution_count": 210,
   "metadata": {},
   "outputs": [
    {
     "data": {
      "text/html": [
       "<div>\n",
       "<style scoped>\n",
       "    .dataframe tbody tr th:only-of-type {\n",
       "        vertical-align: middle;\n",
       "    }\n",
       "\n",
       "    .dataframe tbody tr th {\n",
       "        vertical-align: top;\n",
       "    }\n",
       "\n",
       "    .dataframe thead th {\n",
       "        text-align: right;\n",
       "    }\n",
       "</style>\n",
       "<table border=\"1\" class=\"dataframe\">\n",
       "  <thead>\n",
       "    <tr style=\"text-align: right;\">\n",
       "      <th></th>\n",
       "      <th>Country</th>\n",
       "      <th>Continent</th>\n",
       "      <th>Region</th>\n",
       "      <th>Development</th>\n",
       "      <th>1980</th>\n",
       "      <th>1981</th>\n",
       "      <th>1982</th>\n",
       "      <th>1983</th>\n",
       "      <th>1984</th>\n",
       "      <th>1985</th>\n",
       "      <th>1986</th>\n",
       "      <th>1987</th>\n",
       "      <th>1988</th>\n",
       "      <th>1989</th>\n",
       "      <th>1990</th>\n",
       "      <th>1991</th>\n",
       "      <th>1992</th>\n",
       "      <th>1993</th>\n",
       "      <th>1994</th>\n",
       "      <th>1995</th>\n",
       "      <th>1996</th>\n",
       "      <th>1997</th>\n",
       "      <th>1998</th>\n",
       "      <th>1999</th>\n",
       "      <th>2000</th>\n",
       "      <th>2001</th>\n",
       "      <th>2002</th>\n",
       "      <th>2003</th>\n",
       "      <th>2004</th>\n",
       "      <th>2005</th>\n",
       "      <th>2006</th>\n",
       "      <th>2007</th>\n",
       "      <th>2008</th>\n",
       "      <th>2009</th>\n",
       "      <th>2010</th>\n",
       "      <th>2011</th>\n",
       "      <th>2012</th>\n",
       "      <th>2013</th>\n",
       "    </tr>\n",
       "  </thead>\n",
       "  <tbody>\n",
       "    <tr>\n",
       "      <th>0</th>\n",
       "      <td>Afghanistan</td>\n",
       "      <td>Asia</td>\n",
       "      <td>Southern Asia</td>\n",
       "      <td>Developing regions</td>\n",
       "      <td>16.0</td>\n",
       "      <td>39.0</td>\n",
       "      <td>39.0</td>\n",
       "      <td>47.0</td>\n",
       "      <td>71.0</td>\n",
       "      <td>340.0</td>\n",
       "      <td>496.0</td>\n",
       "      <td>741.0</td>\n",
       "      <td>828.0</td>\n",
       "      <td>1076.0</td>\n",
       "      <td>1028.0</td>\n",
       "      <td>1378.0</td>\n",
       "      <td>1170.0</td>\n",
       "      <td>713.0</td>\n",
       "      <td>858.0</td>\n",
       "      <td>1537.0</td>\n",
       "      <td>2212.0</td>\n",
       "      <td>2555.0</td>\n",
       "      <td>1999.0</td>\n",
       "      <td>2395.0</td>\n",
       "      <td>3326.0</td>\n",
       "      <td>4067.0</td>\n",
       "      <td>3697.0</td>\n",
       "      <td>3479.0</td>\n",
       "      <td>2978.0</td>\n",
       "      <td>3436.0</td>\n",
       "      <td>3009.0</td>\n",
       "      <td>2652.0</td>\n",
       "      <td>2111.0</td>\n",
       "      <td>1746.0</td>\n",
       "      <td>1758.0</td>\n",
       "      <td>2203.0</td>\n",
       "      <td>2635.0</td>\n",
       "      <td>2004.0</td>\n",
       "    </tr>\n",
       "    <tr>\n",
       "      <th>1</th>\n",
       "      <td>Albania</td>\n",
       "      <td>Europe</td>\n",
       "      <td>Southern Europe</td>\n",
       "      <td>Developed regions</td>\n",
       "      <td>1.0</td>\n",
       "      <td>0.0</td>\n",
       "      <td>0.0</td>\n",
       "      <td>0.0</td>\n",
       "      <td>0.0</td>\n",
       "      <td>0.0</td>\n",
       "      <td>1.0</td>\n",
       "      <td>2.0</td>\n",
       "      <td>2.0</td>\n",
       "      <td>3.0</td>\n",
       "      <td>3.0</td>\n",
       "      <td>21.0</td>\n",
       "      <td>56.0</td>\n",
       "      <td>96.0</td>\n",
       "      <td>71.0</td>\n",
       "      <td>63.0</td>\n",
       "      <td>113.0</td>\n",
       "      <td>307.0</td>\n",
       "      <td>574.0</td>\n",
       "      <td>1264.0</td>\n",
       "      <td>1816.0</td>\n",
       "      <td>1602.0</td>\n",
       "      <td>1021.0</td>\n",
       "      <td>853.0</td>\n",
       "      <td>1450.0</td>\n",
       "      <td>1223.0</td>\n",
       "      <td>856.0</td>\n",
       "      <td>702.0</td>\n",
       "      <td>560.0</td>\n",
       "      <td>716.0</td>\n",
       "      <td>561.0</td>\n",
       "      <td>539.0</td>\n",
       "      <td>620.0</td>\n",
       "      <td>603.0</td>\n",
       "    </tr>\n",
       "    <tr>\n",
       "      <th>2</th>\n",
       "      <td>Algeria</td>\n",
       "      <td>Africa</td>\n",
       "      <td>Northern Africa</td>\n",
       "      <td>Developing regions</td>\n",
       "      <td>80.0</td>\n",
       "      <td>67.0</td>\n",
       "      <td>71.0</td>\n",
       "      <td>69.0</td>\n",
       "      <td>63.0</td>\n",
       "      <td>44.0</td>\n",
       "      <td>69.0</td>\n",
       "      <td>132.0</td>\n",
       "      <td>242.0</td>\n",
       "      <td>434.0</td>\n",
       "      <td>491.0</td>\n",
       "      <td>872.0</td>\n",
       "      <td>795.0</td>\n",
       "      <td>717.0</td>\n",
       "      <td>595.0</td>\n",
       "      <td>1106.0</td>\n",
       "      <td>2054.0</td>\n",
       "      <td>1842.0</td>\n",
       "      <td>2292.0</td>\n",
       "      <td>2389.0</td>\n",
       "      <td>2867.0</td>\n",
       "      <td>3418.0</td>\n",
       "      <td>3406.0</td>\n",
       "      <td>3072.0</td>\n",
       "      <td>3616.0</td>\n",
       "      <td>3626.0</td>\n",
       "      <td>4807.0</td>\n",
       "      <td>3623.0</td>\n",
       "      <td>4005.0</td>\n",
       "      <td>5393.0</td>\n",
       "      <td>4752.0</td>\n",
       "      <td>4325.0</td>\n",
       "      <td>3774.0</td>\n",
       "      <td>4331.0</td>\n",
       "    </tr>\n",
       "    <tr>\n",
       "      <th>3</th>\n",
       "      <td>American Samoa</td>\n",
       "      <td>Oceania</td>\n",
       "      <td>Polynesia</td>\n",
       "      <td>Developing regions</td>\n",
       "      <td>0.0</td>\n",
       "      <td>1.0</td>\n",
       "      <td>0.0</td>\n",
       "      <td>0.0</td>\n",
       "      <td>0.0</td>\n",
       "      <td>0.0</td>\n",
       "      <td>0.0</td>\n",
       "      <td>1.0</td>\n",
       "      <td>0.0</td>\n",
       "      <td>1.0</td>\n",
       "      <td>2.0</td>\n",
       "      <td>0.0</td>\n",
       "      <td>0.0</td>\n",
       "      <td>0.0</td>\n",
       "      <td>0.0</td>\n",
       "      <td>0.0</td>\n",
       "      <td>0.0</td>\n",
       "      <td>0.0</td>\n",
       "      <td>0.0</td>\n",
       "      <td>0.0</td>\n",
       "      <td>0.0</td>\n",
       "      <td>0.0</td>\n",
       "      <td>0.0</td>\n",
       "      <td>0.0</td>\n",
       "      <td>0.0</td>\n",
       "      <td>0.0</td>\n",
       "      <td>1.0</td>\n",
       "      <td>0.0</td>\n",
       "      <td>0.0</td>\n",
       "      <td>0.0</td>\n",
       "      <td>0.0</td>\n",
       "      <td>0.0</td>\n",
       "      <td>0.0</td>\n",
       "      <td>0.0</td>\n",
       "    </tr>\n",
       "    <tr>\n",
       "      <th>4</th>\n",
       "      <td>Andorra</td>\n",
       "      <td>Europe</td>\n",
       "      <td>Southern Europe</td>\n",
       "      <td>Developed regions</td>\n",
       "      <td>0.0</td>\n",
       "      <td>0.0</td>\n",
       "      <td>0.0</td>\n",
       "      <td>0.0</td>\n",
       "      <td>0.0</td>\n",
       "      <td>0.0</td>\n",
       "      <td>2.0</td>\n",
       "      <td>0.0</td>\n",
       "      <td>0.0</td>\n",
       "      <td>0.0</td>\n",
       "      <td>3.0</td>\n",
       "      <td>0.0</td>\n",
       "      <td>1.0</td>\n",
       "      <td>0.0</td>\n",
       "      <td>0.0</td>\n",
       "      <td>0.0</td>\n",
       "      <td>0.0</td>\n",
       "      <td>0.0</td>\n",
       "      <td>2.0</td>\n",
       "      <td>0.0</td>\n",
       "      <td>0.0</td>\n",
       "      <td>1.0</td>\n",
       "      <td>0.0</td>\n",
       "      <td>2.0</td>\n",
       "      <td>0.0</td>\n",
       "      <td>0.0</td>\n",
       "      <td>1.0</td>\n",
       "      <td>1.0</td>\n",
       "      <td>0.0</td>\n",
       "      <td>0.0</td>\n",
       "      <td>0.0</td>\n",
       "      <td>0.0</td>\n",
       "      <td>1.0</td>\n",
       "      <td>1.0</td>\n",
       "    </tr>\n",
       "  </tbody>\n",
       "</table>\n",
       "</div>"
      ],
      "text/plain": [
       "          Country Continent           Region         Development  1980  1981  \\\n",
       "0     Afghanistan      Asia    Southern Asia  Developing regions  16.0  39.0   \n",
       "1         Albania    Europe  Southern Europe   Developed regions   1.0   0.0   \n",
       "2         Algeria    Africa  Northern Africa  Developing regions  80.0  67.0   \n",
       "3  American Samoa   Oceania        Polynesia  Developing regions   0.0   1.0   \n",
       "4         Andorra    Europe  Southern Europe   Developed regions   0.0   0.0   \n",
       "\n",
       "   1982  1983  1984   1985   1986   1987   1988    1989    1990    1991  \\\n",
       "0  39.0  47.0  71.0  340.0  496.0  741.0  828.0  1076.0  1028.0  1378.0   \n",
       "1   0.0   0.0   0.0    0.0    1.0    2.0    2.0     3.0     3.0    21.0   \n",
       "2  71.0  69.0  63.0   44.0   69.0  132.0  242.0   434.0   491.0   872.0   \n",
       "3   0.0   0.0   0.0    0.0    0.0    1.0    0.0     1.0     2.0     0.0   \n",
       "4   0.0   0.0   0.0    0.0    2.0    0.0    0.0     0.0     3.0     0.0   \n",
       "\n",
       "     1992   1993   1994    1995    1996    1997    1998    1999    2000  \\\n",
       "0  1170.0  713.0  858.0  1537.0  2212.0  2555.0  1999.0  2395.0  3326.0   \n",
       "1    56.0   96.0   71.0    63.0   113.0   307.0   574.0  1264.0  1816.0   \n",
       "2   795.0  717.0  595.0  1106.0  2054.0  1842.0  2292.0  2389.0  2867.0   \n",
       "3     0.0    0.0    0.0     0.0     0.0     0.0     0.0     0.0     0.0   \n",
       "4     1.0    0.0    0.0     0.0     0.0     0.0     2.0     0.0     0.0   \n",
       "\n",
       "     2001    2002    2003    2004    2005    2006    2007    2008    2009  \\\n",
       "0  4067.0  3697.0  3479.0  2978.0  3436.0  3009.0  2652.0  2111.0  1746.0   \n",
       "1  1602.0  1021.0   853.0  1450.0  1223.0   856.0   702.0   560.0   716.0   \n",
       "2  3418.0  3406.0  3072.0  3616.0  3626.0  4807.0  3623.0  4005.0  5393.0   \n",
       "3     0.0     0.0     0.0     0.0     0.0     1.0     0.0     0.0     0.0   \n",
       "4     1.0     0.0     2.0     0.0     0.0     1.0     1.0     0.0     0.0   \n",
       "\n",
       "     2010    2011    2012    2013  \n",
       "0  1758.0  2203.0  2635.0  2004.0  \n",
       "1   561.0   539.0   620.0   603.0  \n",
       "2  4752.0  4325.0  3774.0  4331.0  \n",
       "3     0.0     0.0     0.0     0.0  \n",
       "4     0.0     0.0     1.0     1.0  "
      ]
     },
     "execution_count": 210,
     "metadata": {},
     "output_type": "execute_result"
    }
   ],
   "source": [
    "immigration.head()"
   ]
  },
  {
   "cell_type": "markdown",
   "metadata": {},
   "source": [
    "#### Total Immigration per Year"
   ]
  },
  {
   "cell_type": "code",
   "execution_count": 211,
   "metadata": {},
   "outputs": [],
   "source": [
    "# get the total immigration for each year\n",
    "totals = pd.DataFrame(immigration.iloc[196])\n",
    "\n",
    "# make index into column\n",
    "totals = totals.reset_index(level=0, inplace=False)\n",
    "\n",
    "# drop unneeded rows in the beginning\n",
    "totals = totals.drop([0,1,2,3])\n",
    "totals.reset_index(drop=True, inplace=True)\n",
    "\n",
    "# rename columns\n",
    "totals.columns = ['Year','Immigration']\n",
    "\n",
    "# change data type\n",
    "totals['Year'] = totals['Year'].astype('datetime64[ns]')\n",
    "totals['Immigration'] = totals['Immigration'].astype('int64')"
   ]
  },
  {
   "cell_type": "code",
   "execution_count": 212,
   "metadata": {},
   "outputs": [
    {
     "data": {
      "text/html": [
       "<div>\n",
       "<style scoped>\n",
       "    .dataframe tbody tr th:only-of-type {\n",
       "        vertical-align: middle;\n",
       "    }\n",
       "\n",
       "    .dataframe tbody tr th {\n",
       "        vertical-align: top;\n",
       "    }\n",
       "\n",
       "    .dataframe thead th {\n",
       "        text-align: right;\n",
       "    }\n",
       "</style>\n",
       "<table border=\"1\" class=\"dataframe\">\n",
       "  <thead>\n",
       "    <tr style=\"text-align: right;\">\n",
       "      <th></th>\n",
       "      <th>Year</th>\n",
       "      <th>Immigration</th>\n",
       "    </tr>\n",
       "  </thead>\n",
       "  <tbody>\n",
       "    <tr>\n",
       "      <th>0</th>\n",
       "      <td>1980-01-01</td>\n",
       "      <td>143137</td>\n",
       "    </tr>\n",
       "    <tr>\n",
       "      <th>1</th>\n",
       "      <td>1981-01-01</td>\n",
       "      <td>128641</td>\n",
       "    </tr>\n",
       "    <tr>\n",
       "      <th>2</th>\n",
       "      <td>1982-01-01</td>\n",
       "      <td>121175</td>\n",
       "    </tr>\n",
       "    <tr>\n",
       "      <th>3</th>\n",
       "      <td>1983-01-01</td>\n",
       "      <td>89185</td>\n",
       "    </tr>\n",
       "    <tr>\n",
       "      <th>4</th>\n",
       "      <td>1984-01-01</td>\n",
       "      <td>88272</td>\n",
       "    </tr>\n",
       "  </tbody>\n",
       "</table>\n",
       "</div>"
      ],
      "text/plain": [
       "        Year  Immigration\n",
       "0 1980-01-01       143137\n",
       "1 1981-01-01       128641\n",
       "2 1982-01-01       121175\n",
       "3 1983-01-01        89185\n",
       "4 1984-01-01        88272"
      ]
     },
     "execution_count": 212,
     "metadata": {},
     "output_type": "execute_result"
    }
   ],
   "source": [
    "totals.head()"
   ]
  },
  {
   "cell_type": "markdown",
   "metadata": {},
   "source": [
    "***\n",
    "### 1.2 Immigration by Region & Continent\n",
    "#### Import and Clean"
   ]
  },
  {
   "cell_type": "code",
   "execution_count": 213,
   "metadata": {},
   "outputs": [],
   "source": [
    "# import 'immigration by region' dataset\n",
    "df_region = pd.read_excel('Regions by Citizenship.xlsx', engine='openpyxl')\n",
    "\n",
    "# drop stylised header\n",
    "df_region = df_region.drop([0,1,2,3,4,5,6,7,8,9,10,11,12,13,14,15,16,17,18])\n",
    "\n",
    "# rename columns to first row\n",
    "df_region.columns = df_region.iloc[0]\n",
    "\n",
    "# drop first row now that we've gottent the column names from it\n",
    "df_region = df_region.drop([19])\n",
    "\n",
    "# drop 'type' and 'coverage' columns\n",
    "df_region.drop(columns=['Type', 'Coverage'], inplace=True)\n",
    "\n",
    "# get rid of NaN columns\n",
    "df_region.dropna(axis=1,thresh=10, inplace=True)\n",
    "\n",
    "# get rid of NaN rows\n",
    "df_region.dropna(axis=0, thresh=10, inplace=True)\n",
    "\n",
    "# rename columns\n",
    "df_region.columns = ['Continent','Region','1980','1981','1982','1983','1984','1985','1986','1987','1988','1989','1990','1991','1992','1993','1994','1995','1996','1997','1998','1999',\n",
    "                     '2000','2001','2002','2003','2004','2005','2006','2007','2008','2009','2010','2011','2012']\n",
    "\n",
    "# drop \"northern america\" since there is no data\n",
    "df_region = df_region.drop([20])\n",
    "\n",
    "# reindex\n",
    "df_region.reset_index(drop=True, inplace=True)"
   ]
  },
  {
   "cell_type": "markdown",
   "metadata": {},
   "source": [
    "#### Immigration by Continent"
   ]
  },
  {
   "cell_type": "code",
   "execution_count": 214,
   "metadata": {},
   "outputs": [
    {
     "name": "stdout",
     "output_type": "stream",
     "text": [
      "['Africa' 'Africa Total' 'Asia' 'Asia Total' 'Europe' 'Europe Total'\n",
      " 'Latin America and the Caribbean' 'Latin America and the Caribbean Total'\n",
      " 'Northern America' 'Oceania' 'Oceania Total' 'Unknown']\n"
     ]
    }
   ],
   "source": [
    "# find out the names of continents present\n",
    "print(df_region.Continent.unique())"
   ]
  },
  {
   "cell_type": "code",
   "execution_count": 215,
   "metadata": {},
   "outputs": [
    {
     "name": "stderr",
     "output_type": "stream",
     "text": [
      "/Users/Ayliah/opt/anaconda3/lib/python3.8/site-packages/pandas/core/frame.py:3990: SettingWithCopyWarning: \n",
      "A value is trying to be set on a copy of a slice from a DataFrame\n",
      "\n",
      "See the caveats in the documentation: https://pandas.pydata.org/pandas-docs/stable/user_guide/indexing.html#returning-a-view-versus-a-copy\n",
      "  return super().drop(\n"
     ]
    }
   ],
   "source": [
    "# create new DF with only the continents\n",
    "continents = ['Africa Total','Asia Total' , 'Europe Total','Latin America and the Caribbean Total','Northern America', 'Oceania Total','Unknown']\n",
    "\n",
    "df_continents =  df_region[df_region['Continent'].isin(continents)]\n",
    "\n",
    "# drop region column\n",
    "df_continents.drop(columns=['Region'], inplace=True)\n",
    "\n",
    "# transpose the dataframe for time series\n",
    "df_continents = df_continents.T\n",
    "\n",
    "# make index into column\n",
    "df_continents = df_continents.reset_index(level=0, inplace=False)\n",
    "\n",
    "# rename columns to first row\n",
    "df_continents.columns = df_continents.iloc[0]\n",
    "\n",
    "# drop first row\n",
    "df_continents.drop(index=0, inplace = True, axis=0)\n",
    "\n",
    "# reindex\n",
    "df_continents.reset_index(drop=True, inplace=True)\n",
    "\n",
    "# correct column name from \"continent\" to \"year\"\n",
    "df_continents.columns = ['Year','Africa','Asia','Europe','Latin America and the Carribbean','North America','Oceania','Unknown']\n",
    "\n",
    "# change data types\n",
    "df_continents['Year'] = df_continents['Year'].astype('datetime64[ns]')\n",
    "df_continents['Africa'] = df_continents['Africa'].astype('int64')\n",
    "df_continents['Asia'] = df_continents['Asia'].astype('int64')\n",
    "df_continents['Europe'] = df_continents['Europe'].astype('int64')\n",
    "df_continents['Latin America and the Carribbean'] = df_continents['Latin America and the Carribbean'].astype('int64')\n",
    "df_continents['North America'] = df_continents['North America'].astype('int64')\n",
    "df_continents['Oceania'] = df_continents['Oceania'].astype('int64')\n",
    "df_continents['Unknown'] = df_continents['Unknown'].astype('int64')"
   ]
  },
  {
   "cell_type": "markdown",
   "metadata": {},
   "source": [
    "#### Immigration by Region"
   ]
  },
  {
   "cell_type": "code",
   "execution_count": 144,
   "metadata": {},
   "outputs": [
    {
     "name": "stdout",
     "output_type": "stream",
     "text": [
      "['Eastern Africa' 'Middle Africa' 'Northern Africa' 'Southern Africa'\n",
      " 'Western Africa' nan 'Central Asia' 'Eastern Asia' 'South-Eastern Asia'\n",
      " 'Southern Asia' 'Western Asia' 'Eastern Europe' 'Northern Europe'\n",
      " 'Southern Europe' 'Western Europe' 'Caribbean' 'Central America'\n",
      " 'South America' 'Northern America' 'Australia and New Zealand'\n",
      " 'Melanesia' 'Micronesia' 'Polynesia' 'Unknown']\n"
     ]
    }
   ],
   "source": [
    "print(df_region.Region.unique())"
   ]
  },
  {
   "cell_type": "code",
   "execution_count": 270,
   "metadata": {},
   "outputs": [],
   "source": [
    "regions = ['Eastern Africa','Middle Africa','Northern Africa','Southern Africa', 'Western Africa', 'Central Asia', 'Eastern Asia', 'South-Eastern Asia', 'Southern Asia', 'Western Asia',\n",
    "           'Eastern Europe','Northern Europe', 'Southern Europe', 'Western Europe', 'Caribbean', 'Central America', 'South America', 'Northern America', 'Australia and New Zealand', 'Melanesia',\n",
    "           'Micronesia','Polynesia']\n",
    "\n",
    "df_regions =  df_region[df_region['Region'].isin(regions)]\n",
    "\n",
    "# transpose the dataframe for time series\n",
    "df_regions = df_regions.T\n",
    "\n",
    "# make index into column\n",
    "df_regions = df_regions.reset_index(level=0, inplace=False)\n",
    "\n",
    "# rename columns to second row\n",
    "df_regions.columns = df_regions.iloc[1]\n",
    "\n",
    "# drop first row and second\n",
    "df_regions.drop(index=0, inplace = True, axis=0)\n",
    "df_regions.drop(index=1, inplace = True, axis=0)\n",
    "\n",
    "# reindex\n",
    "df_regions.reset_index(drop=True, inplace=True)\n",
    "\n",
    "# fix column names\n",
    "df_regions.columns = ['Year','Eastern Africa','Middle Africa','Northern Africa','Southern Africa', 'Western Africa', 'Central Asia', 'Eastern Asia', 'South-Eastern Asia', 'Southern Asia', 'Western Asia',\n",
    "           'Eastern Europe','Northern Europe', 'Southern Europe', 'Western Europe', 'Caribbean', 'Central America', 'South America', 'Northern America', 'Australia and New Zealand', 'Melanesia',\n",
    "           'Micronesia','Polynesia']\n",
    "\n",
    "# change data types\n",
    "df_continents = df_continents.astype('int64')\n",
    "df_continents['Year'] = df_continents['Year'].astype('datetime64[ns]')"
   ]
  },
  {
   "cell_type": "markdown",
   "metadata": {},
   "source": [
    "***\n",
    "## 2. Visualisations\n",
    "### 2.1 Immigration per Year"
   ]
  },
  {
   "cell_type": "code",
   "execution_count": 160,
   "metadata": {},
   "outputs": [
    {
     "data": {
      "image/png": "[encoded data removed]",
      "text/plain": [
       "<Figure size 842.4x595.44 with 1 Axes>"
      ]
     },
     "metadata": {},
     "output_type": "display_data"
    }
   ],
   "source": [
    "sns.lineplot(data=totals, x='Year', y='Immigration');\n",
    "plt.title('Migrant Flow into Canada by Year');"
   ]
  },
  {
   "cell_type": "code",
   "execution_count": null,
   "metadata": {},
   "outputs": [],
   "source": []
  }
 ],
 "metadata": {
  "kernelspec": {
   "display_name": "Python 3",
   "language": "python",
   "name": "python3"
  },
  "language_info": {
   "codemirror_mode": {
    "name": "ipython",
    "version": 3
   },
   "file_extension": ".py",
   "mimetype": "text/x-python",
   "name": "python",
   "nbconvert_exporter": "python",
   "pygments_lexer": "ipython3",
   "version": "3.8.2"
  }
 },
 "nbformat": 4,
 "nbformat_minor": 4
}
